{
    "cells": [
        {
            "metadata": {
                "collapsed": true
            },
            "cell_type": "markdown",
            "source": "Problem 1"
        },
        {
            "metadata": {},
            "cell_type": "code",
            "source": "from bs4 import BeautifulSoup\nimport requests\nimport pandas as pd",
            "execution_count": 1,
            "outputs": []
        },
        {
            "metadata": {},
            "cell_type": "markdown",
            "source": "Scraping from Internet"
        },
        {
            "metadata": {},
            "cell_type": "code",
            "source": "List_url = \"https://en.wikipedia.org/wiki/List_of_postal_codes_of_Canada:_M\"\nsource = requests.get(List_url).text\n\nsoup = BeautifulSoup(source, 'xml')\ntable=soup.find('table')",
            "execution_count": 5,
            "outputs": []
        },
        {
            "metadata": {},
            "cell_type": "code",
            "source": "column_names = ['Postalcode','Borough','Neighborhood']\ndf = pd.DataFrame(columns = column_names)",
            "execution_count": 6,
            "outputs": []
        },
        {
            "metadata": {},
            "cell_type": "code",
            "source": "for tr_cell in table.find_all('tr'):\n    row_data=[]\n    for td_cell in tr_cell.find_all('td'):\n        row_data.append(td_cell.text.strip())\n    if len(row_data)==3:\n        df.loc[len(df)] = row_data\ndf.head()",
            "execution_count": 7,
            "outputs": [
                {
                    "output_type": "execute_result",
                    "execution_count": 7,
                    "data": {
                        "text/plain": "  Postalcode           Borough               Neighborhood\n0        M1A      Not assigned               Not assigned\n1        M2A      Not assigned               Not assigned\n2        M3A        North York                  Parkwoods\n3        M4A        North York           Victoria Village\n4        M5A  Downtown Toronto  Regent Park, Harbourfront",
                        "text/html": "<div>\n<style scoped>\n    .dataframe tbody tr th:only-of-type {\n        vertical-align: middle;\n    }\n\n    .dataframe tbody tr th {\n        vertical-align: top;\n    }\n\n    .dataframe thead th {\n        text-align: right;\n    }\n</style>\n<table border=\"1\" class=\"dataframe\">\n  <thead>\n    <tr style=\"text-align: right;\">\n      <th></th>\n      <th>Postalcode</th>\n      <th>Borough</th>\n      <th>Neighborhood</th>\n    </tr>\n  </thead>\n  <tbody>\n    <tr>\n      <th>0</th>\n      <td>M1A</td>\n      <td>Not assigned</td>\n      <td>Not assigned</td>\n    </tr>\n    <tr>\n      <th>1</th>\n      <td>M2A</td>\n      <td>Not assigned</td>\n      <td>Not assigned</td>\n    </tr>\n    <tr>\n      <th>2</th>\n      <td>M3A</td>\n      <td>North York</td>\n      <td>Parkwoods</td>\n    </tr>\n    <tr>\n      <th>3</th>\n      <td>M4A</td>\n      <td>North York</td>\n      <td>Victoria Village</td>\n    </tr>\n    <tr>\n      <th>4</th>\n      <td>M5A</td>\n      <td>Downtown Toronto</td>\n      <td>Regent Park, Harbourfront</td>\n    </tr>\n  </tbody>\n</table>\n</div>"
                    },
                    "metadata": {}
                }
            ]
        },
        {
            "metadata": {},
            "cell_type": "code",
            "source": "df = df.dropna()\nempty = 'Not assigned'\ndf = df[(df.Postalcode != empty ) & (df.Borough != empty) & (df.Neighborhood != empty)]\ndf.head(20)",
            "execution_count": 10,
            "outputs": [
                {
                    "output_type": "execute_result",
                    "execution_count": 10,
                    "data": {
                        "text/plain": "   Postalcode           Borough  \\\n2         M3A        North York   \n3         M4A        North York   \n4         M5A  Downtown Toronto   \n5         M6A        North York   \n6         M7A  Downtown Toronto   \n8         M9A         Etobicoke   \n9         M1B       Scarborough   \n11        M3B        North York   \n12        M4B         East York   \n13        M5B  Downtown Toronto   \n14        M6B        North York   \n17        M9B         Etobicoke   \n18        M1C       Scarborough   \n20        M3C        North York   \n21        M4C         East York   \n22        M5C  Downtown Toronto   \n23        M6C              York   \n26        M9C         Etobicoke   \n27        M1E       Scarborough   \n30        M4E      East Toronto   \n\n                                         Neighborhood  \n2                                           Parkwoods  \n3                                    Victoria Village  \n4                           Regent Park, Harbourfront  \n5                    Lawrence Manor, Lawrence Heights  \n6         Queen's Park, Ontario Provincial Government  \n8             Islington Avenue, Humber Valley Village  \n9                                      Malvern, Rouge  \n11                                          Don Mills  \n12                    Parkview Hill, Woodbine Gardens  \n13                           Garden District, Ryerson  \n14                                          Glencairn  \n17  West Deane Park, Princess Gardens, Martin Grov...  \n18             Rouge Hill, Port Union, Highland Creek  \n20                                          Don Mills  \n21                                   Woodbine Heights  \n22                                     St. James Town  \n23                                 Humewood-Cedarvale  \n26  Eringate, Bloordale Gardens, Old Burnhamthorpe...  \n27                  Guildwood, Morningside, West Hill  \n30                                        The Beaches  ",
                        "text/html": "<div>\n<style scoped>\n    .dataframe tbody tr th:only-of-type {\n        vertical-align: middle;\n    }\n\n    .dataframe tbody tr th {\n        vertical-align: top;\n    }\n\n    .dataframe thead th {\n        text-align: right;\n    }\n</style>\n<table border=\"1\" class=\"dataframe\">\n  <thead>\n    <tr style=\"text-align: right;\">\n      <th></th>\n      <th>Postalcode</th>\n      <th>Borough</th>\n      <th>Neighborhood</th>\n    </tr>\n  </thead>\n  <tbody>\n    <tr>\n      <th>2</th>\n      <td>M3A</td>\n      <td>North York</td>\n      <td>Parkwoods</td>\n    </tr>\n    <tr>\n      <th>3</th>\n      <td>M4A</td>\n      <td>North York</td>\n      <td>Victoria Village</td>\n    </tr>\n    <tr>\n      <th>4</th>\n      <td>M5A</td>\n      <td>Downtown Toronto</td>\n      <td>Regent Park, Harbourfront</td>\n    </tr>\n    <tr>\n      <th>5</th>\n      <td>M6A</td>\n      <td>North York</td>\n      <td>Lawrence Manor, Lawrence Heights</td>\n    </tr>\n    <tr>\n      <th>6</th>\n      <td>M7A</td>\n      <td>Downtown Toronto</td>\n      <td>Queen's Park, Ontario Provincial Government</td>\n    </tr>\n    <tr>\n      <th>8</th>\n      <td>M9A</td>\n      <td>Etobicoke</td>\n      <td>Islington Avenue, Humber Valley Village</td>\n    </tr>\n    <tr>\n      <th>9</th>\n      <td>M1B</td>\n      <td>Scarborough</td>\n      <td>Malvern, Rouge</td>\n    </tr>\n    <tr>\n      <th>11</th>\n      <td>M3B</td>\n      <td>North York</td>\n      <td>Don Mills</td>\n    </tr>\n    <tr>\n      <th>12</th>\n      <td>M4B</td>\n      <td>East York</td>\n      <td>Parkview Hill, Woodbine Gardens</td>\n    </tr>\n    <tr>\n      <th>13</th>\n      <td>M5B</td>\n      <td>Downtown Toronto</td>\n      <td>Garden District, Ryerson</td>\n    </tr>\n    <tr>\n      <th>14</th>\n      <td>M6B</td>\n      <td>North York</td>\n      <td>Glencairn</td>\n    </tr>\n    <tr>\n      <th>17</th>\n      <td>M9B</td>\n      <td>Etobicoke</td>\n      <td>West Deane Park, Princess Gardens, Martin Grov...</td>\n    </tr>\n    <tr>\n      <th>18</th>\n      <td>M1C</td>\n      <td>Scarborough</td>\n      <td>Rouge Hill, Port Union, Highland Creek</td>\n    </tr>\n    <tr>\n      <th>20</th>\n      <td>M3C</td>\n      <td>North York</td>\n      <td>Don Mills</td>\n    </tr>\n    <tr>\n      <th>21</th>\n      <td>M4C</td>\n      <td>East York</td>\n      <td>Woodbine Heights</td>\n    </tr>\n    <tr>\n      <th>22</th>\n      <td>M5C</td>\n      <td>Downtown Toronto</td>\n      <td>St. James Town</td>\n    </tr>\n    <tr>\n      <th>23</th>\n      <td>M6C</td>\n      <td>York</td>\n      <td>Humewood-Cedarvale</td>\n    </tr>\n    <tr>\n      <th>26</th>\n      <td>M9C</td>\n      <td>Etobicoke</td>\n      <td>Eringate, Bloordale Gardens, Old Burnhamthorpe...</td>\n    </tr>\n    <tr>\n      <th>27</th>\n      <td>M1E</td>\n      <td>Scarborough</td>\n      <td>Guildwood, Morningside, West Hill</td>\n    </tr>\n    <tr>\n      <th>30</th>\n      <td>M4E</td>\n      <td>East Toronto</td>\n      <td>The Beaches</td>\n    </tr>\n  </tbody>\n</table>\n</div>"
                    },
                    "metadata": {}
                }
            ]
        },
        {
            "metadata": {},
            "cell_type": "code",
            "source": "def neighborhood_list(grouped):    \n    return ', '.join(sorted(grouped['Neighborhood'].tolist()))\n                    \ngrp = df.groupby(['Postalcode', 'Borough'])\ndf2 = grp.apply(neighborhood_list).reset_index(name='Neighborhood')\nprint(df2.shape)\ndf2.head(10)",
            "execution_count": 15,
            "outputs": [
                {
                    "output_type": "stream",
                    "text": "(103, 3)\n",
                    "name": "stdout"
                },
                {
                    "output_type": "execute_result",
                    "execution_count": 15,
                    "data": {
                        "text/plain": "  Postalcode      Borough                                     Neighborhood\n0        M1B  Scarborough                                   Malvern, Rouge\n1        M1C  Scarborough           Rouge Hill, Port Union, Highland Creek\n2        M1E  Scarborough                Guildwood, Morningside, West Hill\n3        M1G  Scarborough                                           Woburn\n4        M1H  Scarborough                                        Cedarbrae\n5        M1J  Scarborough                              Scarborough Village\n6        M1K  Scarborough      Kennedy Park, Ionview, East Birchmount Park\n7        M1L  Scarborough                  Golden Mile, Clairlea, Oakridge\n8        M1M  Scarborough  Cliffside, Cliffcrest, Scarborough Village West\n9        M1N  Scarborough                      Birch Cliff, Cliffside West",
                        "text/html": "<div>\n<style scoped>\n    .dataframe tbody tr th:only-of-type {\n        vertical-align: middle;\n    }\n\n    .dataframe tbody tr th {\n        vertical-align: top;\n    }\n\n    .dataframe thead th {\n        text-align: right;\n    }\n</style>\n<table border=\"1\" class=\"dataframe\">\n  <thead>\n    <tr style=\"text-align: right;\">\n      <th></th>\n      <th>Postalcode</th>\n      <th>Borough</th>\n      <th>Neighborhood</th>\n    </tr>\n  </thead>\n  <tbody>\n    <tr>\n      <th>0</th>\n      <td>M1B</td>\n      <td>Scarborough</td>\n      <td>Malvern, Rouge</td>\n    </tr>\n    <tr>\n      <th>1</th>\n      <td>M1C</td>\n      <td>Scarborough</td>\n      <td>Rouge Hill, Port Union, Highland Creek</td>\n    </tr>\n    <tr>\n      <th>2</th>\n      <td>M1E</td>\n      <td>Scarborough</td>\n      <td>Guildwood, Morningside, West Hill</td>\n    </tr>\n    <tr>\n      <th>3</th>\n      <td>M1G</td>\n      <td>Scarborough</td>\n      <td>Woburn</td>\n    </tr>\n    <tr>\n      <th>4</th>\n      <td>M1H</td>\n      <td>Scarborough</td>\n      <td>Cedarbrae</td>\n    </tr>\n    <tr>\n      <th>5</th>\n      <td>M1J</td>\n      <td>Scarborough</td>\n      <td>Scarborough Village</td>\n    </tr>\n    <tr>\n      <th>6</th>\n      <td>M1K</td>\n      <td>Scarborough</td>\n      <td>Kennedy Park, Ionview, East Birchmount Park</td>\n    </tr>\n    <tr>\n      <th>7</th>\n      <td>M1L</td>\n      <td>Scarborough</td>\n      <td>Golden Mile, Clairlea, Oakridge</td>\n    </tr>\n    <tr>\n      <th>8</th>\n      <td>M1M</td>\n      <td>Scarborough</td>\n      <td>Cliffside, Cliffcrest, Scarborough Village West</td>\n    </tr>\n    <tr>\n      <th>9</th>\n      <td>M1N</td>\n      <td>Scarborough</td>\n      <td>Birch Cliff, Cliffside West</td>\n    </tr>\n  </tbody>\n</table>\n</div>"
                    },
                    "metadata": {}
                }
            ]
        },
        {
            "metadata": {},
            "cell_type": "code",
            "source": "df2.shape",
            "execution_count": 17,
            "outputs": [
                {
                    "output_type": "execute_result",
                    "execution_count": 17,
                    "data": {
                        "text/plain": "(103, 3)"
                    },
                    "metadata": {}
                }
            ]
        }
    ],
    "metadata": {
        "kernelspec": {
            "name": "python3",
            "display_name": "Python 3.7",
            "language": "python"
        },
        "language_info": {
            "name": "python",
            "version": "3.7.9",
            "mimetype": "text/x-python",
            "codemirror_mode": {
                "name": "ipython",
                "version": 3
            },
            "pygments_lexer": "ipython3",
            "nbconvert_exporter": "python",
            "file_extension": ".py"
        }
    },
    "nbformat": 4,
    "nbformat_minor": 1
}